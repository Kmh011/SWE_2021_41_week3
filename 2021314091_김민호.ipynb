{
  "nbformat": 4,
  "nbformat_minor": 0,
  "metadata": {
    "colab": {
      "provenance": []
    },
    "kernelspec": {
      "name": "python3",
      "display_name": "Python 3"
    },
    "language_info": {
      "name": "python"
    }
  },
  "cells": [
    {
      "cell_type": "code",
      "execution_count": 80,
      "metadata": {
        "id": "MeaZ4tBN4_AF",
        "colab": {
          "base_uri": "https://localhost:8080/"
        },
        "outputId": "7b8dd560-4eb7-48ab-fee8-e1ae3eb4e014"
      },
      "outputs": [
        {
          "output_type": "stream",
          "name": "stdout",
          "text": [
            "6464\n",
            "False\n"
          ]
        }
      ],
      "source": [
        "num = input()\n",
        "result = 0\n",
        "flag = 0\n",
        "check = [0]\n",
        "while True:\n",
        "  numlist = list(map(int, str(num)))\n",
        "  i = 0\n",
        "  for n in numlist:\n",
        "    numlist[i] = n**2\n",
        "    i += 1\n",
        "  result = sum(numlist)\n",
        "  if result == 1:\n",
        "    print(\"True\")\n",
        "    break\n",
        "  if result in check:\n",
        "    print(\"False\")\n",
        "    break\n",
        "  check.append(result)\n",
        "  num = result"
      ]
    }
  ]
}